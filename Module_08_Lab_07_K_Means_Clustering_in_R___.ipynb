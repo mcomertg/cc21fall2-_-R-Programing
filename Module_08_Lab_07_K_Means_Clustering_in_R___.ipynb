{
  "cells": [
    {
      "cell_type": "markdown",
      "metadata": {
        "id": "view-in-github",
        "colab_type": "text"
      },
      "source": [
        "<a href=\"https://colab.research.google.com/github/mcomertg/cc21fall2-_-R-Programing/blob/main/Module_08_Lab_07_K_Means_Clustering_in_R___.ipynb\" target=\"_parent\"><img src=\"https://colab.research.google.com/assets/colab-badge.svg\" alt=\"Open In Colab\"/></a>"
      ]
    },
    {
      "cell_type": "code",
      "execution_count": null,
      "metadata": {
        "id": "bwrNBLjSq6GO",
        "colab": {
          "base_uri": "https://localhost:8080/"
        },
        "outputId": "61892cda-c070-4347-aa72-dbafa0a0356b"
      },
      "outputs": [
        {
          "output_type": "stream",
          "name": "stderr",
          "text": [
            "Installing package into ‘/usr/local/lib/R/site-library’\n",
            "(as ‘lib’ is unspecified)\n",
            "\n",
            "also installing the dependencies ‘shape’, ‘numDeriv’, ‘progressr’, ‘SQUAREM’, ‘diagram’, ‘lava’, ‘prodlim’, ‘warp’, ‘future.apply’, ‘iterators’, ‘listenv’, ‘parallelly’, ‘lhs’, ‘DiceDesign’, ‘sfd’, ‘sparsevctrs’, ‘patchwork’, ‘globals’, ‘clock’, ‘gower’, ‘ipred’, ‘timeDate’, ‘furrr’, ‘slider’, ‘doFuture’, ‘foreach’, ‘future’, ‘GPfit’, ‘modelenv’, ‘dials’, ‘hardhat’, ‘infer’, ‘modeldata’, ‘parsnip’, ‘recipes’, ‘rsample’, ‘tune’, ‘workflows’, ‘workflowsets’, ‘yardstick’\n",
            "\n",
            "\n",
            "Installing package into ‘/usr/local/lib/R/site-library’\n",
            "(as ‘lib’ is unspecified)\n",
            "\n",
            "Installing package into ‘/usr/local/lib/R/site-library’\n",
            "(as ‘lib’ is unspecified)\n",
            "\n"
          ]
        }
      ],
      "source": [
        "install.packages('tidymodels')\n",
        "install.packages('dplyr')\n",
        "install.packages('NbClust')"
      ]
    },
    {
      "cell_type": "code",
      "execution_count": null,
      "metadata": {
        "id": "POE6BWkemE8W",
        "colab": {
          "base_uri": "https://localhost:8080/"
        },
        "outputId": "ec584692-b710-43a2-ff2e-4f7c6be9dfa9"
      },
      "outputs": [
        {
          "output_type": "stream",
          "name": "stderr",
          "text": [
            "── \u001b[1mAttaching packages\u001b[22m ────────────────────────────────────── tidymodels 1.3.0 ──\n",
            "\n",
            "\u001b[32m✔\u001b[39m \u001b[34mbroom       \u001b[39m 1.0.7     \u001b[32m✔\u001b[39m \u001b[34mrecipes     \u001b[39m 1.1.1\n",
            "\u001b[32m✔\u001b[39m \u001b[34mdials       \u001b[39m 1.4.0     \u001b[32m✔\u001b[39m \u001b[34mrsample     \u001b[39m 1.2.1\n",
            "\u001b[32m✔\u001b[39m \u001b[34mdplyr       \u001b[39m 1.1.4     \u001b[32m✔\u001b[39m \u001b[34mtibble      \u001b[39m 3.2.1\n",
            "\u001b[32m✔\u001b[39m \u001b[34mggplot2     \u001b[39m 3.5.1     \u001b[32m✔\u001b[39m \u001b[34mtidyr       \u001b[39m 1.3.1\n",
            "\u001b[32m✔\u001b[39m \u001b[34minfer       \u001b[39m 1.0.7     \u001b[32m✔\u001b[39m \u001b[34mtune        \u001b[39m 1.3.0\n",
            "\u001b[32m✔\u001b[39m \u001b[34mmodeldata   \u001b[39m 1.4.0     \u001b[32m✔\u001b[39m \u001b[34mworkflows   \u001b[39m 1.2.0\n",
            "\u001b[32m✔\u001b[39m \u001b[34mparsnip     \u001b[39m 1.3.0     \u001b[32m✔\u001b[39m \u001b[34mworkflowsets\u001b[39m 1.1.0\n",
            "\u001b[32m✔\u001b[39m \u001b[34mpurrr       \u001b[39m 1.0.4     \u001b[32m✔\u001b[39m \u001b[34myardstick   \u001b[39m 1.3.2\n",
            "\n",
            "── \u001b[1mConflicts\u001b[22m ───────────────────────────────────────── tidymodels_conflicts() ──\n",
            "\u001b[31m✖\u001b[39m \u001b[34mpurrr\u001b[39m::\u001b[32mdiscard()\u001b[39m masks \u001b[34mscales\u001b[39m::discard()\n",
            "\u001b[31m✖\u001b[39m \u001b[34mdplyr\u001b[39m::\u001b[32mfilter()\u001b[39m  masks \u001b[34mstats\u001b[39m::filter()\n",
            "\u001b[31m✖\u001b[39m \u001b[34mdplyr\u001b[39m::\u001b[32mlag()\u001b[39m     masks \u001b[34mstats\u001b[39m::lag()\n",
            "\u001b[31m✖\u001b[39m \u001b[34mrecipes\u001b[39m::\u001b[32mstep()\u001b[39m  masks \u001b[34mstats\u001b[39m::step()\n",
            "\n"
          ]
        }
      ],
      "source": [
        "library(tidymodels)\n",
        "library(dplyr)\n",
        "library(NbClust)"
      ]
    },
    {
      "cell_type": "code",
      "execution_count": null,
      "metadata": {
        "id": "9U7snEd7q3jW",
        "colab": {
          "base_uri": "https://localhost:8080/",
          "height": 306
        },
        "outputId": "47247fa4-17fc-49a4-da15-54c432d35dde"
      },
      "outputs": [
        {
          "output_type": "display_data",
          "data": {
            "text/html": [
              "<table class=\"dataframe\">\n",
              "<caption>A data.frame: 6 × 13</caption>\n",
              "<thead>\n",
              "\t<tr><th></th><th scope=col>elevation</th><th scope=col>aspect</th><th scope=col>slope</th><th scope=col>horizontal_distance_to_hydrology</th><th scope=col>vertical_distance_to_hydrology</th><th scope=col>horizontal_distance_to_roadways</th><th scope=col>hillshade_9am</th><th scope=col>hillshade_noon</th><th scope=col>hillshade_3pm</th><th scope=col>horizontal_distance_to_fire_points</th><th scope=col>wilderness_area</th><th scope=col>soil_type</th><th scope=col>lodgepole_pine</th></tr>\n",
              "\t<tr><th></th><th scope=col>&lt;int&gt;</th><th scope=col>&lt;int&gt;</th><th scope=col>&lt;int&gt;</th><th scope=col>&lt;int&gt;</th><th scope=col>&lt;int&gt;</th><th scope=col>&lt;int&gt;</th><th scope=col>&lt;int&gt;</th><th scope=col>&lt;int&gt;</th><th scope=col>&lt;int&gt;</th><th scope=col>&lt;int&gt;</th><th scope=col>&lt;chr&gt;</th><th scope=col>&lt;chr&gt;</th><th scope=col>&lt;int&gt;</th></tr>\n",
              "</thead>\n",
              "<tbody>\n",
              "\t<tr><th scope=row>1</th><td>2511</td><td> 92</td><td> 7</td><td>182</td><td>18</td><td> 722</td><td>231</td><td>229</td><td>131</td><td>5494</td><td>wilderness_area_1</td><td>soil_type_18</td><td>0</td></tr>\n",
              "\t<tr><th scope=row>2</th><td>2880</td><td> 86</td><td>12</td><td> 30</td><td> 3</td><td>4369</td><td>237</td><td>221</td><td>113</td><td>5906</td><td>wilderness_area_1</td><td>soil_type_30</td><td>1</td></tr>\n",
              "\t<tr><th scope=row>3</th><td>2733</td><td>133</td><td>16</td><td>228</td><td>79</td><td>1590</td><td>244</td><td>231</td><td>111</td><td> 878</td><td>wilderness_area_1</td><td>soil_type_30</td><td>0</td></tr>\n",
              "\t<tr><th scope=row>4</th><td>2858</td><td>125</td><td> 8</td><td>268</td><td> 7</td><td>3288</td><td>233</td><td>235</td><td>134</td><td>3034</td><td>wilderness_area_1</td><td>soil_type_12</td><td>1</td></tr>\n",
              "\t<tr><th scope=row>5</th><td>2821</td><td> 72</td><td>20</td><td> 90</td><td>20</td><td>2889</td><td>238</td><td>198</td><td> 82</td><td>2247</td><td>wilderness_area_1</td><td>soil_type_29</td><td>0</td></tr>\n",
              "\t<tr><th scope=row>6</th><td>2744</td><td>122</td><td>19</td><td> 30</td><td> 1</td><td>2742</td><td>248</td><td>222</td><td> 94</td><td>2232</td><td>wilderness_area_1</td><td>soil_type_29</td><td>0</td></tr>\n",
              "</tbody>\n",
              "</table>\n"
            ],
            "text/markdown": "\nA data.frame: 6 × 13\n\n| <!--/--> | elevation &lt;int&gt; | aspect &lt;int&gt; | slope &lt;int&gt; | horizontal_distance_to_hydrology &lt;int&gt; | vertical_distance_to_hydrology &lt;int&gt; | horizontal_distance_to_roadways &lt;int&gt; | hillshade_9am &lt;int&gt; | hillshade_noon &lt;int&gt; | hillshade_3pm &lt;int&gt; | horizontal_distance_to_fire_points &lt;int&gt; | wilderness_area &lt;chr&gt; | soil_type &lt;chr&gt; | lodgepole_pine &lt;int&gt; |\n|---|---|---|---|---|---|---|---|---|---|---|---|---|---|\n| 1 | 2511 |  92 |  7 | 182 | 18 |  722 | 231 | 229 | 131 | 5494 | wilderness_area_1 | soil_type_18 | 0 |\n| 2 | 2880 |  86 | 12 |  30 |  3 | 4369 | 237 | 221 | 113 | 5906 | wilderness_area_1 | soil_type_30 | 1 |\n| 3 | 2733 | 133 | 16 | 228 | 79 | 1590 | 244 | 231 | 111 |  878 | wilderness_area_1 | soil_type_30 | 0 |\n| 4 | 2858 | 125 |  8 | 268 |  7 | 3288 | 233 | 235 | 134 | 3034 | wilderness_area_1 | soil_type_12 | 1 |\n| 5 | 2821 |  72 | 20 |  90 | 20 | 2889 | 238 | 198 |  82 | 2247 | wilderness_area_1 | soil_type_29 | 0 |\n| 6 | 2744 | 122 | 19 |  30 |  1 | 2742 | 248 | 222 |  94 | 2232 | wilderness_area_1 | soil_type_29 | 0 |\n\n",
            "text/latex": "A data.frame: 6 × 13\n\\begin{tabular}{r|lllllllllllll}\n  & elevation & aspect & slope & horizontal\\_distance\\_to\\_hydrology & vertical\\_distance\\_to\\_hydrology & horizontal\\_distance\\_to\\_roadways & hillshade\\_9am & hillshade\\_noon & hillshade\\_3pm & horizontal\\_distance\\_to\\_fire\\_points & wilderness\\_area & soil\\_type & lodgepole\\_pine\\\\\n  & <int> & <int> & <int> & <int> & <int> & <int> & <int> & <int> & <int> & <int> & <chr> & <chr> & <int>\\\\\n\\hline\n\t1 & 2511 &  92 &  7 & 182 & 18 &  722 & 231 & 229 & 131 & 5494 & wilderness\\_area\\_1 & soil\\_type\\_18 & 0\\\\\n\t2 & 2880 &  86 & 12 &  30 &  3 & 4369 & 237 & 221 & 113 & 5906 & wilderness\\_area\\_1 & soil\\_type\\_30 & 1\\\\\n\t3 & 2733 & 133 & 16 & 228 & 79 & 1590 & 244 & 231 & 111 &  878 & wilderness\\_area\\_1 & soil\\_type\\_30 & 0\\\\\n\t4 & 2858 & 125 &  8 & 268 &  7 & 3288 & 233 & 235 & 134 & 3034 & wilderness\\_area\\_1 & soil\\_type\\_12 & 1\\\\\n\t5 & 2821 &  72 & 20 &  90 & 20 & 2889 & 238 & 198 &  82 & 2247 & wilderness\\_area\\_1 & soil\\_type\\_29 & 0\\\\\n\t6 & 2744 & 122 & 19 &  30 &  1 & 2742 & 248 & 222 &  94 & 2232 & wilderness\\_area\\_1 & soil\\_type\\_29 & 0\\\\\n\\end{tabular}\n",
            "text/plain": [
              "  elevation aspect slope horizontal_distance_to_hydrology\n",
              "1 2511       92     7    182                             \n",
              "2 2880       86    12     30                             \n",
              "3 2733      133    16    228                             \n",
              "4 2858      125     8    268                             \n",
              "5 2821       72    20     90                             \n",
              "6 2744      122    19     30                             \n",
              "  vertical_distance_to_hydrology horizontal_distance_to_roadways hillshade_9am\n",
              "1 18                              722                            231          \n",
              "2  3                             4369                            237          \n",
              "3 79                             1590                            244          \n",
              "4  7                             3288                            233          \n",
              "5 20                             2889                            238          \n",
              "6  1                             2742                            248          \n",
              "  hillshade_noon hillshade_3pm horizontal_distance_to_fire_points\n",
              "1 229            131           5494                              \n",
              "2 221            113           5906                              \n",
              "3 231            111            878                              \n",
              "4 235            134           3034                              \n",
              "5 198             82           2247                              \n",
              "6 222             94           2232                              \n",
              "  wilderness_area   soil_type    lodgepole_pine\n",
              "1 wilderness_area_1 soil_type_18 0             \n",
              "2 wilderness_area_1 soil_type_30 1             \n",
              "3 wilderness_area_1 soil_type_30 0             \n",
              "4 wilderness_area_1 soil_type_12 1             \n",
              "5 wilderness_area_1 soil_type_29 0             \n",
              "6 wilderness_area_1 soil_type_29 0             "
            ]
          },
          "metadata": {}
        }
      ],
      "source": [
        "# Data Loading\n",
        "data <- read.csv('/content/lodgepole_data.csv')\n",
        "head(data)"
      ]
    },
    {
      "cell_type": "code",
      "source": [
        "names(data)"
      ],
      "metadata": {
        "colab": {
          "base_uri": "https://localhost:8080/",
          "height": 52
        },
        "id": "ETEenm2CG_NC",
        "outputId": "4eafbe21-4255-494b-ec4a-d2aa570d1555"
      },
      "execution_count": null,
      "outputs": [
        {
          "output_type": "display_data",
          "data": {
            "text/html": [
              "<style>\n",
              ".list-inline {list-style: none; margin:0; padding: 0}\n",
              ".list-inline>li {display: inline-block}\n",
              ".list-inline>li:not(:last-child)::after {content: \"\\00b7\"; padding: 0 .5ex}\n",
              "</style>\n",
              "<ol class=list-inline><li>'elevation'</li><li>'aspect'</li><li>'slope'</li><li>'horizontal_distance_to_hydrology'</li><li>'vertical_distance_to_hydrology'</li><li>'horizontal_distance_to_roadways'</li><li>'hillshade_9am'</li><li>'hillshade_noon'</li><li>'hillshade_3pm'</li><li>'horizontal_distance_to_fire_points'</li><li>'wilderness_area'</li><li>'soil_type'</li><li>'lodgepole_pine'</li></ol>\n"
            ],
            "text/markdown": "1. 'elevation'\n2. 'aspect'\n3. 'slope'\n4. 'horizontal_distance_to_hydrology'\n5. 'vertical_distance_to_hydrology'\n6. 'horizontal_distance_to_roadways'\n7. 'hillshade_9am'\n8. 'hillshade_noon'\n9. 'hillshade_3pm'\n10. 'horizontal_distance_to_fire_points'\n11. 'wilderness_area'\n12. 'soil_type'\n13. 'lodgepole_pine'\n\n\n",
            "text/latex": "\\begin{enumerate*}\n\\item 'elevation'\n\\item 'aspect'\n\\item 'slope'\n\\item 'horizontal\\_distance\\_to\\_hydrology'\n\\item 'vertical\\_distance\\_to\\_hydrology'\n\\item 'horizontal\\_distance\\_to\\_roadways'\n\\item 'hillshade\\_9am'\n\\item 'hillshade\\_noon'\n\\item 'hillshade\\_3pm'\n\\item 'horizontal\\_distance\\_to\\_fire\\_points'\n\\item 'wilderness\\_area'\n\\item 'soil\\_type'\n\\item 'lodgepole\\_pine'\n\\end{enumerate*}\n",
            "text/plain": [
              " [1] \"elevation\"                          \"aspect\"                            \n",
              " [3] \"slope\"                              \"horizontal_distance_to_hydrology\"  \n",
              " [5] \"vertical_distance_to_hydrology\"     \"horizontal_distance_to_roadways\"   \n",
              " [7] \"hillshade_9am\"                      \"hillshade_noon\"                    \n",
              " [9] \"hillshade_3pm\"                      \"horizontal_distance_to_fire_points\"\n",
              "[11] \"wilderness_area\"                    \"soil_type\"                         \n",
              "[13] \"lodgepole_pine\"                    "
            ]
          },
          "metadata": {}
        }
      ]
    },
    {
      "cell_type": "code",
      "execution_count": null,
      "metadata": {
        "id": "APEkru-cw3mL"
      },
      "outputs": [],
      "source": [
        "# Split data into training and test sets\n",
        "split <- initial_split(data, prop = 0.75, strata = lodgepole_pine)\n",
        "\n",
        "training_set <- training(split) %>% select(horizontal_distance_to_hydrology,\n",
        "                                           horizontal_distance_to_roadways,\n",
        "                                           horizontal_distance_to_fire_points)\n",
        "\n",
        "test_set <- testing(split) %>% select(horizontal_distance_to_hydrology,\n",
        "                                       horizontal_distance_to_roadways,\n",
        "                                       horizontal_distance_to_fire_points)"
      ]
    },
    {
      "cell_type": "code",
      "execution_count": null,
      "metadata": {
        "id": "MYZCiVcpx6cE"
      },
      "outputs": [],
      "source": [
        "# center and scale the features\n",
        "test_set <- scale(test_set,\n",
        "  center = apply(training_set, 2, mean),\n",
        "  scale = apply(training_set, 2, sd))\n",
        "\n",
        "training_set <- scale(training_set)"
      ]
    },
    {
      "cell_type": "code",
      "execution_count": null,
      "metadata": {
        "id": "e2f6nW-nzy1a",
        "colab": {
          "base_uri": "https://localhost:8080/",
          "height": 255
        },
        "outputId": "553512ce-33fb-46ff-9e21-7525be965208"
      },
      "outputs": [
        {
          "output_type": "display_data",
          "data": {
            "text/html": [
              "<table class=\"dataframe\">\n",
              "<caption>A matrix: 6 × 3 of type dbl</caption>\n",
              "<thead>\n",
              "\t<tr><th scope=col>horizontal_distance_to_hydrology</th><th scope=col>horizontal_distance_to_roadways</th><th scope=col>horizontal_distance_to_fire_points</th></tr>\n",
              "</thead>\n",
              "<tbody>\n",
              "\t<tr><td>-0.4175593</td><td>-1.0489455</td><td> 2.65233871</td></tr>\n",
              "\t<tr><td>-0.8499102</td><td> 0.3414661</td><td> 0.19907869</td></tr>\n",
              "\t<tr><td>-1.1318782</td><td> 0.2471465</td><td> 0.18774549</td></tr>\n",
              "\t<tr><td>-0.8264129</td><td> 1.5573543</td><td>-0.16056153</td></tr>\n",
              "\t<tr><td>-1.0754846</td><td> 1.5887942</td><td>-0.07140702</td></tr>\n",
              "\t<tr><td>-0.7089262</td><td> 2.0122698</td><td>-0.28371563</td></tr>\n",
              "</tbody>\n",
              "</table>\n"
            ],
            "text/markdown": "\nA matrix: 6 × 3 of type dbl\n\n| horizontal_distance_to_hydrology | horizontal_distance_to_roadways | horizontal_distance_to_fire_points |\n|---|---|---|\n| -0.4175593 | -1.0489455 |  2.65233871 |\n| -0.8499102 |  0.3414661 |  0.19907869 |\n| -1.1318782 |  0.2471465 |  0.18774549 |\n| -0.8264129 |  1.5573543 | -0.16056153 |\n| -1.0754846 |  1.5887942 | -0.07140702 |\n| -0.7089262 |  2.0122698 | -0.28371563 |\n\n",
            "text/latex": "A matrix: 6 × 3 of type dbl\n\\begin{tabular}{lll}\n horizontal\\_distance\\_to\\_hydrology & horizontal\\_distance\\_to\\_roadways & horizontal\\_distance\\_to\\_fire\\_points\\\\\n\\hline\n\t -0.4175593 & -1.0489455 &  2.65233871\\\\\n\t -0.8499102 &  0.3414661 &  0.19907869\\\\\n\t -1.1318782 &  0.2471465 &  0.18774549\\\\\n\t -0.8264129 &  1.5573543 & -0.16056153\\\\\n\t -1.0754846 &  1.5887942 & -0.07140702\\\\\n\t -0.7089262 &  2.0122698 & -0.28371563\\\\\n\\end{tabular}\n",
            "text/plain": [
              "     horizontal_distance_to_hydrology horizontal_distance_to_roadways\n",
              "[1,] -0.4175593                       -1.0489455                     \n",
              "[2,] -0.8499102                        0.3414661                     \n",
              "[3,] -1.1318782                        0.2471465                     \n",
              "[4,] -0.8264129                        1.5573543                     \n",
              "[5,] -1.0754846                        1.5887942                     \n",
              "[6,] -0.7089262                        2.0122698                     \n",
              "     horizontal_distance_to_fire_points\n",
              "[1,]  2.65233871                       \n",
              "[2,]  0.19907869                       \n",
              "[3,]  0.18774549                       \n",
              "[4,] -0.16056153                       \n",
              "[5,] -0.07140702                       \n",
              "[6,] -0.28371563                       "
            ]
          },
          "metadata": {}
        }
      ],
      "source": [
        "head(training_set)"
      ]
    },
    {
      "cell_type": "code",
      "execution_count": null,
      "metadata": {
        "id": "6YH3pdKzzyyA",
        "colab": {
          "base_uri": "https://localhost:8080/",
          "height": 255
        },
        "outputId": "f1cc9354-5f83-42ec-e5bd-eee199e345ee"
      },
      "outputs": [
        {
          "output_type": "display_data",
          "data": {
            "text/html": [
              "<table class=\"dataframe\">\n",
              "<caption>A matrix: 6 × 3 of type dbl</caption>\n",
              "<thead>\n",
              "\t<tr><th scope=col>horizontal_distance_to_hydrology</th><th scope=col>horizontal_distance_to_roadways</th><th scope=col>horizontal_distance_to_fire_points</th></tr>\n",
              "</thead>\n",
              "<tbody>\n",
              "\t<tr><td>-0.2013839</td><td>-0.4920109</td><td>-0.8352647</td></tr>\n",
              "\t<tr><td>-1.1318782</td><td>-1.1387736</td><td>-0.3789145</td></tr>\n",
              "\t<tr><td>-1.1318782</td><td> 1.4816420</td><td> 0.2277895</td></tr>\n",
              "\t<tr><td> 0.8747938</td><td> 1.4944746</td><td> 0.1817011</td></tr>\n",
              "\t<tr><td> 0.2826611</td><td> 0.3818887</td><td>-0.5050908</td></tr>\n",
              "\t<tr><td>-0.6901284</td><td>-0.9610422</td><td>-0.5753566</td></tr>\n",
              "</tbody>\n",
              "</table>\n"
            ],
            "text/markdown": "\nA matrix: 6 × 3 of type dbl\n\n| horizontal_distance_to_hydrology | horizontal_distance_to_roadways | horizontal_distance_to_fire_points |\n|---|---|---|\n| -0.2013839 | -0.4920109 | -0.8352647 |\n| -1.1318782 | -1.1387736 | -0.3789145 |\n| -1.1318782 |  1.4816420 |  0.2277895 |\n|  0.8747938 |  1.4944746 |  0.1817011 |\n|  0.2826611 |  0.3818887 | -0.5050908 |\n| -0.6901284 | -0.9610422 | -0.5753566 |\n\n",
            "text/latex": "A matrix: 6 × 3 of type dbl\n\\begin{tabular}{lll}\n horizontal\\_distance\\_to\\_hydrology & horizontal\\_distance\\_to\\_roadways & horizontal\\_distance\\_to\\_fire\\_points\\\\\n\\hline\n\t -0.2013839 & -0.4920109 & -0.8352647\\\\\n\t -1.1318782 & -1.1387736 & -0.3789145\\\\\n\t -1.1318782 &  1.4816420 &  0.2277895\\\\\n\t  0.8747938 &  1.4944746 &  0.1817011\\\\\n\t  0.2826611 &  0.3818887 & -0.5050908\\\\\n\t -0.6901284 & -0.9610422 & -0.5753566\\\\\n\\end{tabular}\n",
            "text/plain": [
              "     horizontal_distance_to_hydrology horizontal_distance_to_roadways\n",
              "[1,] -0.2013839                       -0.4920109                     \n",
              "[2,] -1.1318782                       -1.1387736                     \n",
              "[3,] -1.1318782                        1.4816420                     \n",
              "[4,]  0.8747938                        1.4944746                     \n",
              "[5,]  0.2826611                        0.3818887                     \n",
              "[6,] -0.6901284                       -0.9610422                     \n",
              "     horizontal_distance_to_fire_points\n",
              "[1,] -0.8352647                        \n",
              "[2,] -0.3789145                        \n",
              "[3,]  0.2277895                        \n",
              "[4,]  0.1817011                        \n",
              "[5,] -0.5050908                        \n",
              "[6,] -0.5753566                        "
            ]
          },
          "metadata": {}
        }
      ],
      "source": [
        "head(test_set)"
      ]
    },
    {
      "cell_type": "code",
      "execution_count": null,
      "metadata": {
        "id": "iVQKNy1PzyvW",
        "colab": {
          "base_uri": "https://localhost:8080/",
          "height": 1000
        },
        "outputId": "b151ebdc-b636-4f05-ece5-171945838be2"
      },
      "outputs": [
        {
          "output_type": "stream",
          "name": "stdout",
          "text": [
            "*** : The Hubert index is a graphical method of determining the number of clusters.\n",
            "                In the plot of Hubert index, we seek a significant knee that corresponds to a \n",
            "                significant increase of the value of the measure i.e the significant peak in Hubert\n",
            "                index second differences plot. \n",
            " \n"
          ]
        },
        {
          "output_type": "display_data",
          "data": {
            "text/plain": [
              "plot without title"
            ],
            "image/png": "[encoded data removed]"
          },
          "metadata": {
            "image/png": {
              "width": 420,
              "height": 420
            }
          }
        },
        {
          "output_type": "stream",
          "name": "stdout",
          "text": [
            "*** : The D index is a graphical method of determining the number of clusters. \n",
            "                In the plot of D index, we seek a significant knee (the significant peak in Dindex\n",
            "                second differences plot) that corresponds to a significant increase of the value of\n",
            "                the measure. \n",
            " \n",
            "******************************************************************* \n",
            "* Among all indices:                                                \n",
            "* 7 proposed 2 as the best number of clusters \n",
            "* 4 proposed 3 as the best number of clusters \n",
            "* 8 proposed 4 as the best number of clusters \n",
            "* 1 proposed 6 as the best number of clusters \n",
            "* 2 proposed 8 as the best number of clusters \n",
            "* 1 proposed 10 as the best number of clusters \n",
            "\n",
            "                   ***** Conclusion *****                            \n",
            " \n",
            "* According to the majority rule, the best number of clusters is  4 \n",
            " \n",
            " \n",
            "******************************************************************* \n"
          ]
        },
        {
          "output_type": "display_data",
          "data": {
            "text/plain": [
              "plot without title"
            ],
            "image/png": "[encoded data removed]"
          },
          "metadata": {
            "image/png": {
              "width": 420,
              "height": 420
            }
          }
        }
      ],
      "source": [
        "# Determine Optimal Number of Clusters\n",
        "# Use NbClust to suggest the optimal number of clusters\n",
        "set.seed(123)\n",
        "nc <- NbClust(training_set[sample(nrow(training_set), 1000), ],\n",
        "              min.nc = 2, max.nc = 10, method = \"kmeans\")"
      ]
    },
    {
      "cell_type": "code",
      "execution_count": null,
      "metadata": {
        "id": "dRnKaIcq87Xv"
      },
      "outputs": [],
      "source": [
        "# Use suggested k-means with 4 clusters\n",
        "km_clusters <- kmeans(training_set, centers = 4)"
      ]
    },
    {
      "cell_type": "code",
      "execution_count": null,
      "metadata": {
        "id": "jRW9SUNw-ov4",
        "colab": {
          "base_uri": "https://localhost:8080/",
          "height": 286
        },
        "outputId": "2bc11546-75be-408b-b8da-6e129456ad42"
      },
      "outputs": [
        {
          "output_type": "display_data",
          "data": {
            "text/html": [
              "<table class=\"dataframe\">\n",
              "<caption>A data.frame: 6 × 4</caption>\n",
              "<thead>\n",
              "\t<tr><th></th><th scope=col>horizontal_distance_to_hydrology</th><th scope=col>horizontal_distance_to_roadways</th><th scope=col>horizontal_distance_to_fire_points</th><th scope=col>cluster_number</th></tr>\n",
              "\t<tr><th></th><th scope=col>&lt;dbl&gt;</th><th scope=col>&lt;dbl&gt;</th><th scope=col>&lt;dbl&gt;</th><th scope=col>&lt;int&gt;</th></tr>\n",
              "</thead>\n",
              "<tbody>\n",
              "\t<tr><th scope=row>1</th><td>-0.4175593</td><td>-1.0489455</td><td> 2.65233871</td><td>4</td></tr>\n",
              "\t<tr><th scope=row>2</th><td>-0.8499102</td><td> 0.3414661</td><td> 0.19907869</td><td>2</td></tr>\n",
              "\t<tr><th scope=row>3</th><td>-1.1318782</td><td> 0.2471465</td><td> 0.18774549</td><td>1</td></tr>\n",
              "\t<tr><th scope=row>4</th><td>-0.8264129</td><td> 1.5573543</td><td>-0.16056153</td><td>2</td></tr>\n",
              "\t<tr><th scope=row>5</th><td>-1.0754846</td><td> 1.5887942</td><td>-0.07140702</td><td>2</td></tr>\n",
              "\t<tr><th scope=row>6</th><td>-0.7089262</td><td> 2.0122698</td><td>-0.28371563</td><td>2</td></tr>\n",
              "</tbody>\n",
              "</table>\n"
            ],
            "text/markdown": "\nA data.frame: 6 × 4\n\n| <!--/--> | horizontal_distance_to_hydrology &lt;dbl&gt; | horizontal_distance_to_roadways &lt;dbl&gt; | horizontal_distance_to_fire_points &lt;dbl&gt; | cluster_number &lt;int&gt; |\n|---|---|---|---|---|\n| 1 | -0.4175593 | -1.0489455 |  2.65233871 | 4 |\n| 2 | -0.8499102 |  0.3414661 |  0.19907869 | 2 |\n| 3 | -1.1318782 |  0.2471465 |  0.18774549 | 1 |\n| 4 | -0.8264129 |  1.5573543 | -0.16056153 | 2 |\n| 5 | -1.0754846 |  1.5887942 | -0.07140702 | 2 |\n| 6 | -0.7089262 |  2.0122698 | -0.28371563 | 2 |\n\n",
            "text/latex": "A data.frame: 6 × 4\n\\begin{tabular}{r|llll}\n  & horizontal\\_distance\\_to\\_hydrology & horizontal\\_distance\\_to\\_roadways & horizontal\\_distance\\_to\\_fire\\_points & cluster\\_number\\\\\n  & <dbl> & <dbl> & <dbl> & <int>\\\\\n\\hline\n\t1 & -0.4175593 & -1.0489455 &  2.65233871 & 4\\\\\n\t2 & -0.8499102 &  0.3414661 &  0.19907869 & 2\\\\\n\t3 & -1.1318782 &  0.2471465 &  0.18774549 & 1\\\\\n\t4 & -0.8264129 &  1.5573543 & -0.16056153 & 2\\\\\n\t5 & -1.0754846 &  1.5887942 & -0.07140702 & 2\\\\\n\t6 & -0.7089262 &  2.0122698 & -0.28371563 & 2\\\\\n\\end{tabular}\n",
            "text/plain": [
              "  horizontal_distance_to_hydrology horizontal_distance_to_roadways\n",
              "1 -0.4175593                       -1.0489455                     \n",
              "2 -0.8499102                        0.3414661                     \n",
              "3 -1.1318782                        0.2471465                     \n",
              "4 -0.8264129                        1.5573543                     \n",
              "5 -1.0754846                        1.5887942                     \n",
              "6 -0.7089262                        2.0122698                     \n",
              "  horizontal_distance_to_fire_points cluster_number\n",
              "1  2.65233871                        4             \n",
              "2  0.19907869                        2             \n",
              "3  0.18774549                        1             \n",
              "4 -0.16056153                        2             \n",
              "5 -0.07140702                        2             \n",
              "6 -0.28371563                        2             "
            ]
          },
          "metadata": {}
        }
      ],
      "source": [
        "cluster_number <- data.frame(cluster_number = km_clusters$cluster)\n",
        "training_set_with_cluster_num <- cbind(training_set, cluster_number)\n",
        "head(training_set_with_cluster_num)\n"
      ]
    },
    {
      "cell_type": "markdown",
      "source": [
        "# EXERCISES"
      ],
      "metadata": {
        "id": "fNXjti1TElzO"
      }
    },
    {
      "cell_type": "code",
      "execution_count": null,
      "metadata": {
        "id": "NnrYZbl2-xc-",
        "colab": {
          "base_uri": "https://localhost:8080/",
          "height": 331
        },
        "outputId": "7591a320-41e9-4318-ad9f-e359e36d8397"
      },
      "outputs": [
        {
          "output_type": "stream",
          "name": "stdout",
          "text": [
            "[1] \"Cluster Sizes:\"\n"
          ]
        },
        {
          "output_type": "display_data",
          "data": {
            "text/plain": [
              "\n",
              "   1    2    3    4 \n",
              "3212 1304 1266  754 "
            ]
          },
          "metadata": {}
        },
        {
          "output_type": "stream",
          "name": "stdout",
          "text": [
            "\n",
            " -------- \n",
            "\n",
            "[1] \"Cluster Centers:\"\n"
          ]
        },
        {
          "output_type": "display_data",
          "data": {
            "text/html": [
              "<table class=\"dataframe\">\n",
              "<caption>A matrix: 4 × 3 of type dbl</caption>\n",
              "<thead>\n",
              "\t<tr><th></th><th scope=col>horizontal_distance_to_hydrology</th><th scope=col>horizontal_distance_to_roadways</th><th scope=col>horizontal_distance_to_fire_points</th></tr>\n",
              "</thead>\n",
              "<tbody>\n",
              "\t<tr><th scope=row>1</th><td>-0.4726654</td><td>-0.6142228</td><td>-0.39643040</td></tr>\n",
              "\t<tr><th scope=row>2</th><td>-0.2269174</td><td> 1.2629250</td><td>-0.17070810</td></tr>\n",
              "\t<tr><th scope=row>3</th><td> 1.4896406</td><td>-0.2947757</td><td>-0.08389443</td></tr>\n",
              "\t<tr><th scope=row>4</th><td>-0.0952034</td><td> 0.9273412</td><td> 2.12486493</td></tr>\n",
              "</tbody>\n",
              "</table>\n"
            ],
            "text/markdown": "\nA matrix: 4 × 3 of type dbl\n\n| <!--/--> | horizontal_distance_to_hydrology | horizontal_distance_to_roadways | horizontal_distance_to_fire_points |\n|---|---|---|---|\n| 1 | -0.4726654 | -0.6142228 | -0.39643040 |\n| 2 | -0.2269174 |  1.2629250 | -0.17070810 |\n| 3 |  1.4896406 | -0.2947757 | -0.08389443 |\n| 4 | -0.0952034 |  0.9273412 |  2.12486493 |\n\n",
            "text/latex": "A matrix: 4 × 3 of type dbl\n\\begin{tabular}{r|lll}\n  & horizontal\\_distance\\_to\\_hydrology & horizontal\\_distance\\_to\\_roadways & horizontal\\_distance\\_to\\_fire\\_points\\\\\n\\hline\n\t1 & -0.4726654 & -0.6142228 & -0.39643040\\\\\n\t2 & -0.2269174 &  1.2629250 & -0.17070810\\\\\n\t3 &  1.4896406 & -0.2947757 & -0.08389443\\\\\n\t4 & -0.0952034 &  0.9273412 &  2.12486493\\\\\n\\end{tabular}\n",
            "text/plain": [
              "  horizontal_distance_to_hydrology horizontal_distance_to_roadways\n",
              "1 -0.4726654                       -0.6142228                     \n",
              "2 -0.2269174                        1.2629250                     \n",
              "3  1.4896406                       -0.2947757                     \n",
              "4 -0.0952034                        0.9273412                     \n",
              "  horizontal_distance_to_fire_points\n",
              "1 -0.39643040                       \n",
              "2 -0.17070810                       \n",
              "3 -0.08389443                       \n",
              "4  2.12486493                       "
            ]
          },
          "metadata": {}
        }
      ],
      "source": [
        "# Cluster sizes\n",
        "print('Cluster Sizes:')\n",
        "table(km_clusters$cluster)\n",
        "cat(\"\\n -------- \\n\\n\")\n",
        "\n",
        "# Cluster Centers\n",
        "print('Cluster Centers:')\n",
        "km_clusters$centers"
      ]
    },
    {
      "cell_type": "code",
      "execution_count": null,
      "metadata": {
        "id": "z3te3H3FFn3X",
        "colab": {
          "base_uri": "https://localhost:8080/",
          "height": 224
        },
        "outputId": "fb50ec2b-92d8-4b4b-9566-72e1837e0bb0"
      },
      "outputs": [
        {
          "output_type": "display_data",
          "data": {
            "text/html": [
              "<table class=\"dataframe\">\n",
              "<caption>A data.frame: 4 × 4</caption>\n",
              "<thead>\n",
              "\t<tr><th scope=col>Group.1</th><th scope=col>horizontal_distance_to_hydrology</th><th scope=col>horizontal_distance_to_roadways</th><th scope=col>horizontal_distance_to_fire_points</th></tr>\n",
              "\t<tr><th scope=col>&lt;int&gt;</th><th scope=col>&lt;dbl&gt;</th><th scope=col>&lt;dbl&gt;</th><th scope=col>&lt;dbl&gt;</th></tr>\n",
              "</thead>\n",
              "<tbody>\n",
              "\t<tr><td>1</td><td>-0.4726654</td><td>-0.6142228</td><td>-0.39643040</td></tr>\n",
              "\t<tr><td>2</td><td>-0.2269174</td><td> 1.2629250</td><td>-0.17070810</td></tr>\n",
              "\t<tr><td>3</td><td> 1.4896406</td><td>-0.2947757</td><td>-0.08389443</td></tr>\n",
              "\t<tr><td>4</td><td>-0.0952034</td><td> 0.9273412</td><td> 2.12486493</td></tr>\n",
              "</tbody>\n",
              "</table>\n"
            ],
            "text/markdown": "\nA data.frame: 4 × 4\n\n| Group.1 &lt;int&gt; | horizontal_distance_to_hydrology &lt;dbl&gt; | horizontal_distance_to_roadways &lt;dbl&gt; | horizontal_distance_to_fire_points &lt;dbl&gt; |\n|---|---|---|---|\n| 1 | -0.4726654 | -0.6142228 | -0.39643040 |\n| 2 | -0.2269174 |  1.2629250 | -0.17070810 |\n| 3 |  1.4896406 | -0.2947757 | -0.08389443 |\n| 4 | -0.0952034 |  0.9273412 |  2.12486493 |\n\n",
            "text/latex": "A data.frame: 4 × 4\n\\begin{tabular}{llll}\n Group.1 & horizontal\\_distance\\_to\\_hydrology & horizontal\\_distance\\_to\\_roadways & horizontal\\_distance\\_to\\_fire\\_points\\\\\n <int> & <dbl> & <dbl> & <dbl>\\\\\n\\hline\n\t 1 & -0.4726654 & -0.6142228 & -0.39643040\\\\\n\t 2 & -0.2269174 &  1.2629250 & -0.17070810\\\\\n\t 3 &  1.4896406 & -0.2947757 & -0.08389443\\\\\n\t 4 & -0.0952034 &  0.9273412 &  2.12486493\\\\\n\\end{tabular}\n",
            "text/plain": [
              "  Group.1 horizontal_distance_to_hydrology horizontal_distance_to_roadways\n",
              "1 1       -0.4726654                       -0.6142228                     \n",
              "2 2       -0.2269174                        1.2629250                     \n",
              "3 3        1.4896406                       -0.2947757                     \n",
              "4 4       -0.0952034                        0.9273412                     \n",
              "  horizontal_distance_to_fire_points\n",
              "1 -0.39643040                       \n",
              "2 -0.17070810                       \n",
              "3 -0.08389443                       \n",
              "4  2.12486493                       "
            ]
          },
          "metadata": {}
        }
      ],
      "source": [
        "# Mean of each variable\n",
        "aggregate(training_set, by = list(km_clusters$cluster), mean)"
      ]
    },
    {
      "cell_type": "code",
      "execution_count": null,
      "metadata": {
        "id": "y_WJ-wEqJWUG",
        "colab": {
          "base_uri": "https://localhost:8080/"
        },
        "outputId": "beeee719-c173-4aad-db0d-16f0edf3a57c"
      },
      "outputs": [
        {
          "output_type": "stream",
          "name": "stderr",
          "text": [
            "Installing package into ‘/usr/local/lib/R/site-library’\n",
            "(as ‘lib’ is unspecified)\n",
            "\n"
          ]
        }
      ],
      "source": [
        "install.packages('clue')"
      ]
    },
    {
      "cell_type": "code",
      "execution_count": null,
      "metadata": {
        "id": "UnLfvRSbJHQl",
        "colab": {
          "base_uri": "https://localhost:8080/"
        },
        "outputId": "cb4eed94-ef29-457a-c7da-6a68fd608c7e"
      },
      "outputs": [
        {
          "output_type": "stream",
          "name": "stdout",
          "text": [
            "Class ids:\n",
            "   [1] 1 1 2 2 2 1 1 1 1 1 1 1 1 2 1 1 1 1 1 1 1 1 1 3 1 1 3 3 3 1 1 2 1 4 1 3 4\n",
            "  [38] 1 1 2 2 2 2 1 1 1 1 1 3 1 1 1 3 1 1 4 3 1 4 4 4 4 4 4 4 2 4 4 4 2 4 4 4 4\n",
            "  [75] 4 4 4 4 2 4 4 4 4 2 4 2 4 2 2 4 4 4 4 4 2 2 4 4 4 2 2 4 4 4 4 4 2 2 2 2 4\n",
            " [112] 4 4 4 4 4 2 4 4 4 4 4 4 4 4 4 1 1 3 2 4 4 1 3 4 4 4 4 4 2 4 4 4 4 4 3 3 4\n",
            " [149] 4 3 4 4 4 4 1 2 4 4 4 4 4 4 4 4 2 4 1 4 3 4 4 2 4 4 1 3 4 4 4 4 3 4 4 4 4\n",
            " [186] 1 4 4 4 4 1 4 4 1 4 4 4 4 4 4 1 4 4 4 4 4 4 4 3 3 4 3 1 4 4 3 3 4 1 4 4 4\n",
            " [223] 4 1 4 4 4 4 1 4 3 1 4 4 4 1 4 4 4 1 1 1 4 1 4 4 4 2 4 4 1 4 3 4 4 4 4 4 1\n",
            " [260] 1 2 4 4 1 4 4 4 1 4 2 4 1 4 2 2 1 1 4 4 2 2 4 4 4 4 4 1 1 2 4 4 4 1 4 4 4\n",
            " [297] 1 1 1 1 1 1 4 2 1 4 4 4 4 4 1 4 1 1 1 4 2 3 2 2 3 2 4 2 2 4 4 1 1 2 1 4 1\n",
            " [334] 1 3 1 2 1 1 4 1 4 2 1 2 1 4 4 4 1 4 1 1 2 2 4 2 1 1 1 4 2 4 2 1 3 2 3 2 2\n",
            " [371] 1 1 1 2 2 1 1 1 4 2 2 4 3 1 2 2 1 3 1 3 1 1 1 1 1 4 2 1 2 2 1 3 3 2 2 3 2\n",
            " [408] 2 3 3 1 2 1 3 2 2 2 1 2 2 1 2 2 2 2 2 2 1 2 2 2 1 2 3 1 2 2 2 2 1 1 2 1 2\n",
            " [445] 2 1 2 1 4 4 2 2 1 1 1 2 2 2 2 2 2 1 2 2 2 2 1 2 2 3 2 2 1 1 2 1 1 2 2 2 2\n",
            " [482] 1 2 1 1 1 2 2 2 1 2 1 2 4 2 1 2 2 1 3 2 2 1 3 2 2 2 1 1 2 2 2 2 1 1 2 2 2\n",
            " [519] 1 2 2 2 2 2 2 2 2 1 1 2 2 2 2 1 2 2 2 2 2 2 2 2 2 1 2 1 2 2 2 2 2 2 2 2 2\n",
            " [556] 2 2 1 1 2 2 2 2 2 2 1 2 2 3 2 2 1 2 2 1 1 2 3 2 1 1 2 2 2 2 2 3 2 2 3 2 2\n",
            " [593] 2 1 2 2 2 2 2 2 2 2 3 2 1 1 2 2 1 2 2 1 2 1 2 2 2 2 3 1 2 1 4 1 1 1 2 4 4\n",
            " [630] 3 4 2 1 2 2 2 2 2 1 1 2 1 1 2 2 1 1 1 2 2 1 2 2 1 2 1 2 1 2 2 1 2 2 2 1 1\n",
            " [667] 2 1 3 2 2 1 3 2 1 2 2 1 1 1 2 2 2 2 2 3 2 2 2 1 1 1 1 1 2 2 2 3 2 2 1 1 1\n",
            " [704] 2 2 2 2 1 1 2 2 2 2 2 1 2 2 1 2 2 1 2 2 2 2 2 2 1 1 2 2 2 2 2 2 2 2 2 2 2\n",
            " [741] 1 1 1 2 2 2 1 2 2 2 2 1 1 2 1 2 2 1 2 1 1 1 3 2 1 3 1 1 2 1 1 2 1 1 2 1 1\n",
            " [778] 2 1 2 2 2 2 1 1 2 1 1 1 2 1 1 3 1 1 2 2 2 2 2 3 1 1 1 1 3 1 1 1 1 1 1 3 1\n",
            " [815] 1 1 1 1 1 3 1 3 1 1 1 1 3 1 1 3 3 1 1 1 1 1 3 3 1 3 1 1 1 1 1 1 1 1 3 1 1\n",
            " [852] 1 1 1 1 1 2 1 1 3 1 1 1 1 1 1 1 1 1 1 3 1 1 1 1 1 1 1 3 1 1 1 1 1 1 1 1 3\n",
            " [889] 1 1 1 1 1 1 1 1 1 1 1 1 1 1 1 1 1 1 1 1 1 1 1 3 1 1 1 1 1 1 1 1 1 1 1 1 1\n",
            " [926] 1 1 1 1 3 1 3 3 1 1 1 1 1 1 1 1 1 3 1 1 3 1 3 1 1 1 2 1 1 3 1 1 4 1 1 4 1\n",
            " [963] 1 1 3 3 1 3 3 3 1 1 1 1 1 4 3 1 1 1 1 1 1 1 1 1 1 1 3 1 1 1 1 4 3 1 3 3 1\n",
            "[1000] 1 1 1 1 1 1 1 1 1 1 3 1 1 1 3 3 1 1 1 1 1 1 1 1 1 3 1 3 1 4 1 1 1 1 1 3 1\n",
            "[1037] 1 3 1 1 1 1 1 1 1 1 1 1 1 1 1 3 1 1 1 1 1 3 4 1 4 2 1 1 1 1 1 1 3 3 1 1 1\n",
            "[1074] 1 1 1 3 1 3 3 4 4 1 1 3 1 1 2 1 1 1 1 3 1 2 1 1 1 3 1 1 1 2 1 1 1 1 1 1 1\n",
            "[1111] 3 1 1 1 1 1 1 1 1 1 1 1 1 1 2 1 1 3 1 2 1 1 1 3 1 1 1 1 1 1 1 1 1 3 1 1 1\n",
            "[1148] 3 3 1 3 1 3 1 1 1 1 1 3 3 3 3 1 1 3 3 3 1 1 1 1 1 1 1 1 1 1 1 1 1 2 1 1 1\n",
            "[1185] 3 1 1 2 1 2 1 1 1 3 1 1 3 1 1 1 1 1 1 2 1 2 2 2 1 3 3 2 1 1 1 1 1 1 1 1 1\n",
            "[1222] 3 1 2 3 3 1 1 1 3 3 3 1 1 3 3 1 1 1 3 3 3 3 2 1 1 3 1 1 1 1 1 3 3 1 1 1 1\n",
            "[1259] 3 1 1 3 1 1 1 1 1 1 3 3 3 3 1 1 1 1 1 1 2 1 3 1 1 3 1 3 3 1 3 3 1 1 2 1 1\n",
            "[1296] 1 1 2 1 3 3 1 1 1 1 1 1 1 1 1 2 1 1 2 1 1 1 1 1 3 1 1 3 1 1 3 1 3 1 1 1 3\n",
            "[1333] 1 1 2 1 1 1 1 1 1 1 1 1 4 3 1 1 1 3 3 1 1 1 1 3 3 1 1 3 2 3 1 3 3 3 3 2 2\n",
            "[1370] 2 3 3 3 3 2 3 2 1 1 1 3 3 1 3 3 1 1 3 3 1 1 1 1 1 3 1 1 1 2 1 3 3 1 3 1 1\n",
            "[1407] 1 1 1 2 3 1 1 3 3 3 1 2 3 1 3 1 1 3 1 2 1 3 3 1 3 2 3 1 2 3 3 3 3 1 2 3 3\n",
            "[1444] 3 1 1 3 1 1 1 1 3 3 3 3 1 1 3 1 3 1 3 3 1 3 2 3 3 1 1 1 3 3 1 1 3 1 1 3 3\n",
            "[1481] 1 1 3 1 1 1 1 1 1 1 3 3 1 3 3 1 1 2 3 3 1 3 1 1 1 1 3 3 3 1 1 3 3 1 3 1 1\n",
            "[1518] 1 1 1 1 1 1 1 3 2 2 3 3 1 1 1 1 3 1 2 3 3 1 1 3 1 2 2 3 3 3 3 3 1 1 1 1 1\n",
            "[1555] 1 1 2 3 1 2 1 3 2 1 1 1 1 1 1 1 1 3 3 1 1 2 1 3 3 3 1 3 1 1 2 1 3 1 1 1 1\n",
            "[1592] 3 3 3 1 3 2 1 1 3 3 3 1 2 1 1 1 1 2 1 2 1 2 1 1 2 3 1 3 2 1 1 1 1 3 1 1 3\n",
            "[1629] 3 2 1 1 1 1 2 3 3 3 3 1 1 3 3 1 3 3 1 1 3 2 2 1 3 1 1 1 1 1 1 1 1 3 2 3 4\n",
            "[1666] 2 2 3 3 1 1 1 1 4 1 1 1 1 1 3 2 1 1 1 1 1 1 1 1 1 2 1 1 4 2 1 1 4 3 1 3 3\n",
            "[1703] 3 1 3 1 1 1 1 1 1 1 2 2 1 1 2 3 2 1 2 2 1 1 1 2 2 2 3 3 1 1 3 1 2 1 1 2 1\n",
            "[1740] 1 1 1 3 1 1 2 1 2 2 2 3 2 4 2 2 1 1 2 1 2 1 2 2 1 1 3 3 1 1 1 3 3 1 1 3 1\n",
            "[1777] 1 2 1 3 1 1 1 1 3 3 1 1 1 1 1 1 3 3 3 3 3 3 1 3 1 1 1 1 1 2 3 1 3 1 1 1 1\n",
            "[1814] 3 1 3 1 1 1 1 3 1 1 1 3 3 1 3 1 1 3 1 1 1 1 1 3 1 3 1 1 1 1 3 3 1 3 3 3 1\n",
            "[1851] 1 1 3 3 3 1 3 1 3 1 3 3 3 3 1 1 3 3 1 3 1 1 3 3 1 3 3 1 1 3 1 1 3 3 3 3 1\n",
            "[1888] 3 3 1 3 3 3 3 1 1 1 1 3 3 3 1 3 3 1 3 1 1 3 3 1 1 3 1 1 1 1 3 1 1 1 3 1 3\n",
            "[1925] 1 1 1 1 3 1 1 3 1 1 3 1 1 2 3 2 1 1 3 3 1 3 3 3 2 1 3 1 1 2 3 1 3 3 1 3 1\n",
            "[1962] 3 1 1 1 3 1 1 1 1 3 3 2 3 3 1 2 1 3 1 2 1 3 3 3 2 1 1 1 1 1 2 1 2 1 3 1 1\n",
            "[1999] 2 1 3 2 2 2 3 2 2 3 1 2 3 3 2 2 1 3 3 3 2 2 1 2 2 3 3 3 2 3 1 3 2 1 1 1 2\n",
            "[2036] 2 1 2 2 3 3 2 3 4 4 4 3 2 3 4 2 2 2 1 4 1 1 1 4 3 3 3 2 1 4 3 1 4 4 1 3 1\n",
            "[2073] 4 4 1 4 2 3 1 4 1 4 1 1 1 4 2 1 1 1 1 1 1 3 1 3 1 1 1 1 2 3 1 2 2 2 1 1 2\n",
            "[2110] 1 1 2 1 3 1 1 1 1 1 1 1 1 1 1 1 1 1 1 2 1 1 1 1 1 1 1 1 1 1 2 1 1 1 1 1 1\n",
            "[2147] 1 1 1 1 1 1 1 1 1 1 1 1 1 1 1 1 1 1 1 1 1 1 1 1 1 1 1 1 1 3 1 1 3 1\n"
          ]
        }
      ],
      "source": [
        "#  Test Set Observations to Clusters\n",
        "library(clue)\n",
        "\n",
        "# Predict cluster assignments for the test set\n",
        "test_clusters <- cl_predict(km_clusters, newdata = test_set)\n",
        "\n",
        "# Print the predicted cluster assignments\n",
        "print(test_clusters)"
      ]
    },
    {
      "cell_type": "code",
      "execution_count": null,
      "metadata": {
        "id": "opLrmzVmJT3d",
        "colab": {
          "base_uri": "https://localhost:8080/",
          "height": 34
        },
        "outputId": "39bc5e05-5d23-4f11-ef44-dfcdd1f6a3da"
      },
      "outputs": [
        {
          "output_type": "display_data",
          "data": {
            "text/html": [
              "<style>\n",
              ".list-inline {list-style: none; margin:0; padding: 0}\n",
              ".list-inline>li {display: inline-block}\n",
              ".list-inline>li:not(:last-child)::after {content: \"\\00b7\"; padding: 0 .5ex}\n",
              "</style>\n",
              "<ol class=list-inline><li>1</li><li>1</li><li>2</li><li>2</li><li>2</li></ol>\n"
            ],
            "text/markdown": "1. 1\n2. 1\n3. 2\n4. 2\n5. 2\n\n\n",
            "text/latex": "\\begin{enumerate*}\n\\item 1\n\\item 1\n\\item 2\n\\item 2\n\\item 2\n\\end{enumerate*}\n",
            "text/plain": [
              "[1] 1 1 2 2 2"
            ]
          },
          "metadata": {}
        }
      ],
      "source": [
        "test_clusters[1:5]"
      ]
    },
    {
      "cell_type": "code",
      "source": [
        "rownames(test_set)"
      ],
      "metadata": {
        "colab": {
          "base_uri": "https://localhost:8080/",
          "height": 34
        },
        "id": "gn8_N5h_Fv7F",
        "outputId": "61fcf009-a13a-4585-cce2-6f156e6d4736"
      },
      "execution_count": null,
      "outputs": [
        {
          "output_type": "display_data",
          "data": {
            "text/plain": [
              "NULL"
            ]
          },
          "metadata": {}
        }
      ]
    }
  ],
  "metadata": {
    "colab": {
      "provenance": [],
      "machine_shape": "hm",
      "gpuType": "L4",
      "authorship_tag": "ABX9TyMi+RAUqaO6HRERwH8742X6",
      "include_colab_link": true
    },
    "kernelspec": {
      "display_name": "R",
      "name": "ir"
    },
    "language_info": {
      "name": "R"
    },
    "accelerator": "GPU"
  },
  "nbformat": 4,
  "nbformat_minor": 0
}